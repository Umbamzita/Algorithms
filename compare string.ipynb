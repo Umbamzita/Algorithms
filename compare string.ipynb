{
 "cells": [
  {
   "cell_type": "code",
   "execution_count": 1,
   "metadata": {},
   "outputs": [],
   "source": [
    "def correnspond_overall(a,b):\n",
    "    #the best OVERALL long sequence\n",
    "    cell=[[0 for i in range(len(b))] for j in range(len(a))]\n",
    "    for i in range(len(a)):\n",
    "        for j in range(len(b)):\n",
    "            if a[i]==b[j]:\n",
    "                cell[i][j]=cell[i-1][j]+1\n",
    "            else:\n",
    "                cell[i][j]= max(cell[i-1][j], cell[i][j-1])\n",
    "    return max(cell)[-1]"
   ]
  },
  {
   "cell_type": "code",
   "execution_count": 2,
   "metadata": {},
   "outputs": [
    {
     "data": {
      "text/plain": [
       "5"
      ]
     },
     "execution_count": 2,
     "metadata": {},
     "output_type": "execute_result"
    }
   ],
   "source": [
    "correnspond_overall('ьalabar','parabar')"
   ]
  },
  {
   "cell_type": "code",
   "execution_count": 3,
   "metadata": {},
   "outputs": [],
   "source": [
    "def correnspond2(a,b):\n",
    "    #the best long sequence\n",
    "    result = 0\n",
    "    cell = [[0 for i in range(len(b))] for j in range(len(a))]\n",
    "    for i in range(len(a)):\n",
    "        for j in range(len(b)):\n",
    "            \n",
    "            if a[i] == b[j]:\n",
    "                cell[i][j] = cell[i-1][j-1]+1\n",
    "                if cell[i][j] > result:\n",
    "                    result = cell[i][j]\n",
    "            else:\n",
    "                cell[i][j] = 0\n",
    "    return result"
   ]
  },
  {
   "cell_type": "code",
   "execution_count": 4,
   "metadata": {},
   "outputs": [
    {
     "data": {
      "text/plain": [
       "4"
      ]
     },
     "execution_count": 4,
     "metadata": {},
     "output_type": "execute_result"
    }
   ],
   "source": [
    "correnspond2('ьalabar','parabar')"
   ]
  },
  {
   "cell_type": "code",
   "execution_count": null,
   "metadata": {},
   "outputs": [],
   "source": []
  },
  {
   "cell_type": "code",
   "execution_count": null,
   "metadata": {},
   "outputs": [],
   "source": []
  },
  {
   "cell_type": "code",
   "execution_count": null,
   "metadata": {},
   "outputs": [],
   "source": []
  }
 ],
 "metadata": {
  "kernelspec": {
   "display_name": "Python 3",
   "language": "python",
   "name": "python3"
  },
  "language_info": {
   "codemirror_mode": {
    "name": "ipython",
    "version": 3
   },
   "file_extension": ".py",
   "mimetype": "text/x-python",
   "name": "python",
   "nbconvert_exporter": "python",
   "pygments_lexer": "ipython3",
   "version": "3.7.3"
  }
 },
 "nbformat": 4,
 "nbformat_minor": 2
}
