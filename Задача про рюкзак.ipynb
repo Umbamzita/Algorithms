{
 "cells": [
  {
   "cell_type": "code",
   "execution_count": 2,
   "metadata": {},
   "outputs": [],
   "source": [
    "def pack_bagpack(scores, weights, W):\n",
    "    n = len(weights)\n",
    "    K = [[0 for x in range(W + 1)] for x in range(n + 1)] \n",
    "    \n",
    "    for i in range(n + 1): \n",
    "        for w in range(W + 1): \n",
    "            if i == 0 or w == 0: \n",
    "                K[i][w] = 0\n",
    "            elif weights[i-1] <= w:\n",
    "                K[i][w] = max(scores[i-1] + K[i-1][w-weights[i-1]],  K[i-1][w]) \n",
    "            else: \n",
    "                K[i][w] = K[i-1][w] \n",
    "  \n",
    "    return K[n][W]"
   ]
  },
  {
   "cell_type": "code",
   "execution_count": 3,
   "metadata": {},
   "outputs": [
    {
     "data": {
      "text/plain": [
       "225"
      ]
     },
     "execution_count": 3,
     "metadata": {},
     "output_type": "execute_result"
    }
   ],
   "source": [
    "pack_bagpack([2, 2, 20, 17, 15, 8, 10, 16, 13, 1, 9, 3, 20, 12, 7, 7, 14, 19, 15, 4, 11], [2, 2, 1, 4, 1, 1, 5, 3, 5, 3, 3, 1, 5, 5, 1, 1, 3, 4, 4, 5, 3], 226)"
   ]
  },
  {
   "cell_type": "code",
   "execution_count": 4,
   "metadata": {},
   "outputs": [
    {
     "data": {
      "text/plain": [
       "60"
      ]
     },
     "execution_count": 4,
     "metadata": {},
     "output_type": "execute_result"
    }
   ],
   "source": [
    "pack_bagpack([20, 5, 10, 40, 15, 25], [1, 2, 3, 8, 7, 4], 10)"
   ]
  },
  {
   "cell_type": "code",
   "execution_count": 5,
   "metadata": {},
   "outputs": [
    {
     "data": {
      "text/plain": [
       "29"
      ]
     },
     "execution_count": 5,
     "metadata": {},
     "output_type": "execute_result"
    }
   ],
   "source": [
    "pack_bagpack([15, 10, 9, 5], [1, 5, 3, 4], 8)"
   ]
  },
  {
   "cell_type": "code",
   "execution_count": null,
   "metadata": {},
   "outputs": [],
   "source": []
  }
 ],
 "metadata": {
  "kernelspec": {
   "display_name": "Python 3",
   "language": "python",
   "name": "python3"
  },
  "language_info": {
   "codemirror_mode": {
    "name": "ipython",
    "version": 3
   },
   "file_extension": ".py",
   "mimetype": "text/x-python",
   "name": "python",
   "nbconvert_exporter": "python",
   "pygments_lexer": "ipython3",
   "version": "3.7.3"
  }
 },
 "nbformat": 4,
 "nbformat_minor": 2
}
